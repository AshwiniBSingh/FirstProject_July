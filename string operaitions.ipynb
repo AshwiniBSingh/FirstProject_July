{
 "cells": [
  {
   "cell_type": "code",
   "execution_count": 33,
   "id": "ccf093ed",
   "metadata": {
    "tags": [
     "String_formatting"
    ]
   },
   "outputs": [
    {
     "name": "stdout",
     "output_type": "stream",
     "text": [
      "################ using variables #####################\n",
      "Salary of  Suhani at age  22  is  500000\n",
      "___________________________________________________________________________\n",
      "############## typecasting of variables ###################\n",
      "Salary of Suhani at age 22 is 500000\n",
      "___________________________________________________________________________\n",
      "################# using format method ################\n",
      "Salary of Suhani at age 22 is 500000.Suhani is best employee.\n",
      "Salary of Suhani at age 22 is 500000.00\n",
      "Salary of abc at age 34 is 2111111.2222\n",
      "____________________________________________________________________________\n",
      "Salary of Suhu at age 21 is 199999.345560\n",
      "____________________________________________________________________________\n",
      "####################### f string #######################\n",
      "Salary of Suhani at age 22 is 500000\n",
      "____________________________________________________________________________\n"
     ]
    }
   ],
   "source": [
    "name='Suhani'; age=22; sal=500000 \n",
    "print(\"################ using variables #####################\")\n",
    "print(\"Salary of \" ,name,\"at age \", age,\" is \",sal)\n",
    "print(\"___________________________________________________________________________\")\n",
    "\n",
    "print(\"############## typecasting of variables ###################\")\n",
    "print(\"Salary of \" + name + \" at age \"+str(age)+\" is \"+str(sal))\n",
    "print(\"___________________________________________________________________________\")\n",
    "print(\"################# using format method ################\")\n",
    "print(\"Salary of {0} at age {1} is {2}.{0} is best employee.\".format(name,age,sal))\n",
    "print(\"Salary of {:s} at age {:d} is {:.2f}\".format(name,age,sal))\n",
    "print(\"Salary of {name} at age {age} is {sal}\".format(name=\"abc\",age=34,sal=2111111.2222))\n",
    "print(\"____________________________________________________________________________\")\n",
    "#% operator\n",
    "print(\"Salary of %s at age %d is %f\"%(\"Suhu\",21,199999.34556))\n",
    "print(\"____________________________________________________________________________\")\n",
    "print(\"####################### f string #######################\")\n",
    "print(f\"Salary of {name} at age {age} is {sal}\")\n",
    "print(\"____________________________________________________________________________\")"
   ]
  },
  {
   "cell_type": "code",
   "execution_count": null,
   "id": "30404ac2",
   "metadata": {},
   "outputs": [],
   "source": []
  }
 ],
 "metadata": {
  "celltoolbar": "Tags",
  "kernelspec": {
   "display_name": "Python 3",
   "language": "python",
   "name": "python3"
  },
  "language_info": {
   "codemirror_mode": {
    "name": "ipython",
    "version": 3
   },
   "file_extension": ".py",
   "mimetype": "text/x-python",
   "name": "python",
   "nbconvert_exporter": "python",
   "pygments_lexer": "ipython3",
   "version": "3.8.8"
  }
 },
 "nbformat": 4,
 "nbformat_minor": 5
}
